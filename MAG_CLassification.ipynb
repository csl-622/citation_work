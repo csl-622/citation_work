{
 "cells": [
  {
   "cell_type": "code",
   "execution_count": 3,
   "metadata": {
    "collapsed": true
   },
   "outputs": [],
   "source": [
    "import os\n",
    "import networkx as nx\n",
    "import json "
   ]
  },
  {
   "cell_type": "code",
   "execution_count": 6,
   "metadata": {},
   "outputs": [
    {
     "name": "stdout",
     "output_type": "stream",
     "text": [
      "Node_Data1_0.txt\n",
      "\n",
      "Node_Data1_1.txt\n",
      "\n",
      "Node_Data1_2.txt\n",
      "\n",
      "Node_Data1_3.txt\n",
      "\n",
      "Node_Data1_4.txt\n",
      "\n",
      "Node_Data1_5.txt\n",
      "\n",
      "Node_Data1_6.txt\n",
      "\n",
      "Node_Data1_7.txt\n",
      "\n"
     ]
    }
   ],
   "source": [
    "\n",
    "Node_Year={}\n",
    "ui=0\n",
    "a=0\n",
    "r=0\n",
    "maxi=0\n",
    "while ui<8 :\n",
    "    file_1= open(\"Node_Data1_\"+str(ui)+\".txt\", \"r\")\n",
    "    print(\"Node_Data1_\"+str(ui)+\".txt\\n\")\n",
    "    for line in file_1:\n",
    "        j_content = json.loads(line)\n",
    "            \n",
    "        Node_Year[j_content[\"id\"]]=j_content[\"year\"]\n",
    "    ui=ui+1"
   ]
  },
  {
   "cell_type": "code",
   "execution_count": 8,
   "metadata": {},
   "outputs": [],
   "source": [
    "hu=0\n",
    "for i in Node_Year.keys() :\n",
    "    hu=hu+1"
   ]
  },
  {
   "cell_type": "code",
   "execution_count": 9,
   "metadata": {},
   "outputs": [
    {
     "data": {
      "text/plain": [
       "1824718"
      ]
     },
     "execution_count": 9,
     "metadata": {},
     "output_type": "execute_result"
    }
   ],
   "source": [
    "hu"
   ]
  },
  {
   "cell_type": "code",
   "execution_count": 4,
   "metadata": {},
   "outputs": [
    {
     "name": "stdout",
     "output_type": "stream",
     "text": [
      "Node_Data_0.txt\n",
      "\n",
      "Node_Data_1.txt\n",
      "\n",
      "Node_Data_2.txt\n",
      "\n",
      "Node_Data_3.txt\n",
      "\n",
      "Node_Data_4.txt\n",
      "\n",
      "Node_Data_5.txt\n",
      "\n",
      "Node_Data_6.txt\n",
      "\n",
      "Node_Data_7.txt\n",
      "\n"
     ]
    }
   ],
   "source": [
    "Keyword_count={}\n",
    "Node_Year={}\n",
    "ui=0\n",
    "a=0\n",
    "r=0\n",
    "maxi=0\n",
    "while ui<8 :\n",
    "    file_1= open(\"Node_Data1_\"+str(ui)+\".txt\", \"r\")\n",
    "    print(\"Node_Data_\"+str(ui)+\".txt\\n\")\n",
    "    for line in file_1:\n",
    "        j_content = json.loads(line)\n",
    "            \n",
    "        Node_Year[j_content[\"id\"]]=j_content[\"year\"]\n",
    "        if j_content[\"year\"] >2011 and j_content[\"year\"] <=2014 :\n",
    "            for i in j_content['keywords'] :\n",
    "                a=a+1\n",
    "                if i != \"None\":\n",
    "                    if i in Keyword_count.keys() :\n",
    "                        r=r+1\n",
    "                        Keyword_count[i]=Keyword_count[i]+1\n",
    "                    else :\n",
    "                        Keyword_count[i]=1\n",
    "\n",
    "    \n",
    "    ui=ui+1\n",
    "    \n",
    "        \n",
    "\n",
    "\n",
    "\n",
    "        "
   ]
  },
  {
   "cell_type": "code",
   "execution_count": 5,
   "metadata": {},
   "outputs": [
    {
     "data": {
      "text/plain": [
       "3454228"
      ]
     },
     "execution_count": 5,
     "metadata": {},
     "output_type": "execute_result"
    }
   ],
   "source": [
    "r"
   ]
  },
  {
   "cell_type": "code",
   "execution_count": 19,
   "metadata": {},
   "outputs": [
    {
     "name": "stdout",
     "output_type": "stream",
     "text": [
      "Node_Data_0.txt\n",
      "\n",
      "Node_Data_1.txt\n",
      "\n",
      "Node_Data_2.txt\n",
      "\n",
      "Node_Data_3.txt\n",
      "\n",
      "Node_Data_4.txt\n",
      "\n",
      "Node_Data_5.txt\n",
      "\n",
      "Node_Data_6.txt\n",
      "\n",
      "Node_Data_7.txt\n",
      "\n"
     ]
    }
   ],
   "source": [
    "Details={}\n",
    "ui=0\n",
    "while ui<8 :\n",
    "    file_1= open(\"ReferEdgest_\"+str(ui)+\".txt\", \"r\")\n",
    "    print(\"Node_Data_\"+str(ui)+\".txt\\n\")\n",
    "    for line in file_1:\n",
    "        nd0=line.split('  ')[0]\n",
    "        nd1=line.split('  ')[1]\n",
    "        nd2=line.split('  ')[2]\n",
    "        nd2= nd2.rstrip(os.linesep)\n",
    "        nd2=int(nd2)\n",
    "        if (nd1 in Node_Year.keys()) :  \n",
    "            if Node_Year[nd1]<nd2 and nd2<=Node_Year[nd1]+4 and nd2<2015 :\n",
    "                st=str(nd1)+\"_\"+str(nd2-Node_Year[nd1])\n",
    "                #print(st)\n",
    "                if (st) in Details.keys():\n",
    "                     Details[st]=Details[st]+1\n",
    "                else :\n",
    "                     Details[st]=1\n",
    "            if nd2==2015 :\n",
    "                st=str(nd1)+\"_\"+str(2015)\n",
    "                #print(st)\n",
    "                if (st) in Details.keys():\n",
    "                     Details[st]=Details[st]+1\n",
    "                else :\n",
    "                     Details[st]=1\n",
    "    ui=ui+1"
   ]
  },
  {
   "cell_type": "code",
   "execution_count": 25,
   "metadata": {},
   "outputs": [
    {
     "name": "stdout",
     "output_type": "stream",
     "text": [
      "Node_Data_0.txt\n",
      "\n",
      "Node_Data_1.txt\n",
      "\n",
      "Node_Data_2.txt\n",
      "\n",
      "Node_Data_3.txt\n",
      "\n",
      "Node_Data_4.txt\n",
      "\n",
      "Node_Data_5.txt\n",
      "\n",
      "Node_Data_6.txt\n",
      "\n",
      "Node_Data_7.txt\n",
      "\n"
     ]
    }
   ],
   "source": [
    "Details={}\n",
    "ui=0\n",
    "while ui<8 :\n",
    "    file_1= open(\"ReferEdges1_\"+str(ui)+\".txt\", \"r\")\n",
    "    print(\"Node_Data_\"+str(ui)+\".txt\\n\")\n",
    "    for line in file_1:\n",
    "        nd0=line.split('  ')[0]\n",
    "        nd1=line.split('  ')[1]\n",
    "        \n",
    "        nd1 = nd1.rstrip(os.linesep)\n",
    "        if (nd0 in Node_Year.keys()) and (nd1 in Node_Year.keys()) :  \n",
    "            if Node_Year[nd0]>Node_Year[nd1] and Node_Year[nd0]<=Node_Year[nd1]+4 and Node_Year[nd0]<2015 :\n",
    "                st=str(nd1)+\"_\"+str(Node_Year[nd0]-Node_Year[nd1])\n",
    "                #print(st)\n",
    "                if (st) in Details.keys():\n",
    "                     Details[st]=Details[st]+1\n",
    "                else :\n",
    "                     Details[st]=1\n",
    "            if Node_Year[nd0]==2015 :\n",
    "                st=str(nd1)+\"_\"+str(2015)\n",
    "                #print(st)\n",
    "                if (st) in Details.keys():\n",
    "                     Details[st]=Details[st]+1\n",
    "                else :\n",
    "                     Details[st]=1\n",
    "    ui=ui+1"
   ]
  },
  {
   "cell_type": "code",
   "execution_count": 10,
   "metadata": {},
   "outputs": [
    {
     "name": "stdout",
     "output_type": "stream",
     "text": [
      "0\n",
      "1\n",
      "1\n",
      "2\n",
      "3\n",
      "4\n",
      "5\n",
      "6\n",
      "7\n"
     ]
    }
   ],
   "source": [
    "import networkx as nx\n",
    "import ast\n",
    "#G = nx.DiGraph()\n",
    "keydict={}\n",
    "#year={}\n",
    "c=0\n",
    "while c!=8: \n",
    "    print (c)\n",
    "    c=c+1\n",
    "    with open(\"Node_Data1_\"+str(c-1)+\".txt\") as myfile: \n",
    "        for line in myfile: \n",
    "           "
   ]
  },
  {
   "cell_type": "code",
   "execution_count": 20,
   "metadata": {
    "collapsed": true
   },
   "outputs": [],
   "source": [
    "import operator\n",
    "sorted_x = sorted(Keyword_count.items(), key=operator.itemgetter(1))\n",
    "sorted_x.reverse()"
   ]
  },
  {
   "cell_type": "code",
   "execution_count": 21,
   "metadata": {
    "collapsed": true
   },
   "outputs": [],
   "source": [
    "keylist=[]\n",
    "for i in range(0,50):\n",
    "    keylist.append((sorted_x[i][0]))"
   ]
  },
  {
   "cell_type": "code",
   "execution_count": 23,
   "metadata": {},
   "outputs": [
    {
     "name": "stdout",
     "output_type": "stream",
     "text": [
      "Node_Data_0.txt\n",
      "\n",
      "Node_Data_1.txt\n",
      "\n",
      "Node_Data_2.txt\n",
      "\n",
      "Node_Data_3.txt\n",
      "\n",
      "Node_Data_4.txt\n",
      "\n",
      "Node_Data_5.txt\n",
      "\n",
      "Node_Data_6.txt\n",
      "\n",
      "Node_Data_7.txt\n",
      "\n"
     ]
    }
   ],
   "source": [
    "import csv\n",
    "i=0\n",
    "Year_Nodes={}\n",
    "csv_f= open('Dataset1.csv', mode='w')\n",
    "\n",
    "fieldnames = ['PAPER-ID','year', 'P_1','P_2','P_3','P_4','P_2015','KeyCount']\n",
    "#file_w= open(\"Dataset.txt\", \"w\")\n",
    "writer = csv.DictWriter(csv_f, fieldnames=fieldnames)\n",
    "ui=0\n",
    "writer.writeheader()\n",
    "while ui<8 :\n",
    "    file_1= open(\"Node_Data1_\"+str(ui)+\".txt\", \"r\")\n",
    "    print(\"Node_Data_\"+str(ui)+\".txt\\n\")\n",
    "    for line in file_1:\n",
    "        j_content = json.loads(line)\n",
    "        Id= j_content[\"id\"]\n",
    "        In_Dict={}\n",
    "        In_Dict['PAPER-ID']=str(Id) \n",
    "        if Id in Node_Year.keys() :\n",
    "            In_Dict['year']=str(Node_Year[Id])\n",
    "        else :\n",
    "            In_Dict['year']=str(0)\n",
    "\n",
    "        kc=0\n",
    "        if 'keywords' in j_content.keys():\n",
    "            for i in j_content['keywords'] :\n",
    "                if i in keylist :\n",
    "                    kc=kc+1\n",
    "        jw=1\n",
    "        while jw<5 :\n",
    "            if (str(Id)+\"_\"+str(jw)) in Details.keys() :\n",
    "                In_Dict[\"P_\"+str(jw)]=str(Details[str(Id)+\"_\"+str(jw)])\n",
    "            else :\n",
    "                In_Dict[\"P_\"+str(jw)]=str(0)\n",
    "            #print(str(j)+\"\\n\")\n",
    "            jw=jw+1\n",
    "            \n",
    "            \n",
    "        if (str(Id)+\"_\"+str(2015)) in Details.keys() :\n",
    "            In_Dict[\"P_\"+str(2015)]=str(Details[str(Id)+\"_\"+str(2015)])\n",
    "        else :\n",
    "            In_Dict[\"P_\"+str(2015)]=str(0)\n",
    "        In_Dict['KeyCount']=kc\n",
    "        writer.writerow(In_Dict)\n",
    "    ui=ui+1"
   ]
  },
  {
   "cell_type": "code",
   "execution_count": 1,
   "metadata": {},
   "outputs": [],
   "source": [
    "import pandas\n",
    "df = pandas.read_csv('Dataset2.csv')\n"
   ]
  },
  {
   "cell_type": "code",
   "execution_count": 2,
   "metadata": {},
   "outputs": [],
   "source": [
    "import numpy as np\n",
    "df['diff']=(1/2016-df['year'])\n",
    "df.loc[df['year'] <2005 , 'diff'] = (1/2016-df['year'])**2\n",
    "\n",
    "\n",
    "df['y_2015']=0\n",
    "df.loc[df['P_2015'] >0 , 'y_2015'] = 1"
   ]
  },
  {
   "cell_type": "code",
   "execution_count": 7,
   "metadata": {},
   "outputs": [],
   "source": [
    "df = df.fillna(method='ffill')"
   ]
  },
  {
   "cell_type": "code",
   "execution_count": 8,
   "metadata": {},
   "outputs": [],
   "source": [
    "df['P_5']=df['y_2015']"
   ]
  },
  {
   "cell_type": "code",
   "execution_count": 9,
   "metadata": {},
   "outputs": [],
   "source": [
    "list_of_X_cols=['diff', 'P_1','P_2','P_3','P_4','KeyCount']"
   ]
  },
  {
   "cell_type": "code",
   "execution_count": 10,
   "metadata": {},
   "outputs": [],
   "source": [
    "from sklearn.model_selection import train_test_split\n",
    "X_train, X_test, y_train, y_test = train_test_split(df[list_of_X_cols], df['y_2015'], test_size=0.25, random_state=42)"
   ]
  },
  {
   "cell_type": "code",
   "execution_count": 12,
   "metadata": {},
   "outputs": [],
   "source": [
    "from sklearn.linear_model import LogisticRegression\n",
    "clf = LogisticRegression(random_state=0, solver='lbfgs',multi_class='ovr').fit(X_train, y_train)\n"
   ]
  },
  {
   "cell_type": "code",
   "execution_count": 16,
   "metadata": {},
   "outputs": [],
   "source": [
    "y_pred=clf.predict(X_test)"
   ]
  },
  {
   "cell_type": "code",
   "execution_count": 23,
   "metadata": {},
   "outputs": [
    {
     "data": {
      "text/plain": [
       "0.7248889173744405"
      ]
     },
     "execution_count": 23,
     "metadata": {},
     "output_type": "execute_result"
    }
   ],
   "source": [
    "\n",
    "f1_score(y_test, y_pred, average='macro')\n"
   ]
  },
  {
   "cell_type": "code",
   "execution_count": 19,
   "metadata": {},
   "outputs": [],
   "source": [
    "from sklearn.ensemble import RandomForestClassifier\n",
    "clf1 = RandomForestClassifier(n_estimators=500, max_depth=4, random_state=0)"
   ]
  },
  {
   "cell_type": "code",
   "execution_count": 20,
   "metadata": {},
   "outputs": [
    {
     "data": {
      "text/plain": [
       "RandomForestClassifier(bootstrap=True, class_weight=None, criterion='gini',\n",
       "            max_depth=4, max_features='auto', max_leaf_nodes=None,\n",
       "            min_impurity_decrease=0.0, min_impurity_split=None,\n",
       "            min_samples_leaf=1, min_samples_split=2,\n",
       "            min_weight_fraction_leaf=0.0, n_estimators=500, n_jobs=1,\n",
       "            oob_score=False, random_state=0, verbose=0, warm_start=False)"
      ]
     },
     "execution_count": 20,
     "metadata": {},
     "output_type": "execute_result"
    }
   ],
   "source": [
    "clf1.fit(X_train, y_train)"
   ]
  },
  {
   "cell_type": "code",
   "execution_count": 21,
   "metadata": {},
   "outputs": [
    {
     "data": {
      "text/plain": [
       "0.7878667640002952"
      ]
     },
     "execution_count": 21,
     "metadata": {},
     "output_type": "execute_result"
    }
   ],
   "source": [
    "ypred=clf1.predict(X_test)\n",
    "f1_score(y_test, ypred, average='macro')\n"
   ]
  }
 ],
 "metadata": {
  "kernelspec": {
   "display_name": "Python 3",
   "language": "python",
   "name": "python3"
  },
  "language_info": {
   "codemirror_mode": {
    "name": "ipython",
    "version": 3
   },
   "file_extension": ".py",
   "mimetype": "text/x-python",
   "name": "python",
   "nbconvert_exporter": "python",
   "pygments_lexer": "ipython3",
   "version": "3.6.5"
  }
 },
 "nbformat": 4,
 "nbformat_minor": 2
}
