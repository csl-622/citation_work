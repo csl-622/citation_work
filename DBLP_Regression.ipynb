{
 "cells": [
  {
   "cell_type": "code",
   "execution_count": 1,
   "metadata": {},
   "outputs": [],
   "source": [
    "import os\n",
    "import networkx as nx"
   ]
  },
  {
   "cell_type": "code",
   "execution_count": 2,
   "metadata": {},
   "outputs": [],
   "source": [
    "i=0\n",
    "Year_Nodes={}\n",
    "with open(\"DBLP_NETWORK\\DBLP_NODES.txt\") as myfile:\n",
    "    for line in myfile:\n",
    "        ans=line.split('   ')[0]\n",
    "        #print(ans)\n",
    "       \n",
    "        Year_Nodes[ans]=int(line.split('   ')[1])\n",
    "        "
   ]
  },
  {
   "cell_type": "code",
   "execution_count": 3,
   "metadata": {},
   "outputs": [],
   "source": [
    "Details={}"
   ]
  },
  {
   "cell_type": "code",
   "execution_count": 4,
   "metadata": {},
   "outputs": [
    {
     "ename": "KeyboardInterrupt",
     "evalue": "",
     "output_type": "error",
     "traceback": [
      "\u001b[1;31m---------------------------------------------------------------------------\u001b[0m",
      "\u001b[1;31mKeyboardInterrupt\u001b[0m                         Traceback (most recent call last)",
      "\u001b[1;32m<ipython-input-4-6075c1c49432>\u001b[0m in \u001b[0;36m<module>\u001b[1;34m()\u001b[0m\n\u001b[0;32m      1\u001b[0m \u001b[0mi\u001b[0m\u001b[1;33m=\u001b[0m\u001b[1;36m0\u001b[0m\u001b[1;33m\u001b[0m\u001b[0m\n\u001b[0;32m      2\u001b[0m \u001b[1;32mwith\u001b[0m \u001b[0mopen\u001b[0m\u001b[1;33m(\u001b[0m\u001b[1;34m\"DBLP_NETWORK\\DBLP_EDGES1.txt\"\u001b[0m\u001b[1;33m)\u001b[0m \u001b[1;32mas\u001b[0m \u001b[0mmyfile\u001b[0m\u001b[1;33m:\u001b[0m\u001b[1;33m\u001b[0m\u001b[0m\n\u001b[1;32m----> 3\u001b[1;33m     \u001b[1;32mfor\u001b[0m \u001b[0mline\u001b[0m \u001b[1;32min\u001b[0m \u001b[0mmyfile\u001b[0m\u001b[1;33m:\u001b[0m\u001b[1;33m\u001b[0m\u001b[0m\n\u001b[0m\u001b[0;32m      4\u001b[0m         \u001b[0mnd0\u001b[0m\u001b[1;33m=\u001b[0m\u001b[0mline\u001b[0m\u001b[1;33m.\u001b[0m\u001b[0msplit\u001b[0m\u001b[1;33m(\u001b[0m\u001b[1;34m'   '\u001b[0m\u001b[1;33m)\u001b[0m\u001b[1;33m[\u001b[0m\u001b[1;36m0\u001b[0m\u001b[1;33m]\u001b[0m\u001b[1;33m\u001b[0m\u001b[0m\n\u001b[0;32m      5\u001b[0m         \u001b[0mnd1\u001b[0m\u001b[1;33m=\u001b[0m\u001b[0mline\u001b[0m\u001b[1;33m.\u001b[0m\u001b[0msplit\u001b[0m\u001b[1;33m(\u001b[0m\u001b[1;34m'   '\u001b[0m\u001b[1;33m)\u001b[0m\u001b[1;33m[\u001b[0m\u001b[1;36m1\u001b[0m\u001b[1;33m]\u001b[0m\u001b[1;33m\u001b[0m\u001b[0m\n",
      "\u001b[1;32m~\\Anaconda3\\lib\\encodings\\cp1252.py\u001b[0m in \u001b[0;36mdecode\u001b[1;34m(self, input, final)\u001b[0m\n\u001b[0;32m     20\u001b[0m \u001b[1;33m\u001b[0m\u001b[0m\n\u001b[0;32m     21\u001b[0m \u001b[1;32mclass\u001b[0m \u001b[0mIncrementalDecoder\u001b[0m\u001b[1;33m(\u001b[0m\u001b[0mcodecs\u001b[0m\u001b[1;33m.\u001b[0m\u001b[0mIncrementalDecoder\u001b[0m\u001b[1;33m)\u001b[0m\u001b[1;33m:\u001b[0m\u001b[1;33m\u001b[0m\u001b[0m\n\u001b[1;32m---> 22\u001b[1;33m     \u001b[1;32mdef\u001b[0m \u001b[0mdecode\u001b[0m\u001b[1;33m(\u001b[0m\u001b[0mself\u001b[0m\u001b[1;33m,\u001b[0m \u001b[0minput\u001b[0m\u001b[1;33m,\u001b[0m \u001b[0mfinal\u001b[0m\u001b[1;33m=\u001b[0m\u001b[1;32mFalse\u001b[0m\u001b[1;33m)\u001b[0m\u001b[1;33m:\u001b[0m\u001b[1;33m\u001b[0m\u001b[0m\n\u001b[0m\u001b[0;32m     23\u001b[0m         \u001b[1;32mreturn\u001b[0m \u001b[0mcodecs\u001b[0m\u001b[1;33m.\u001b[0m\u001b[0mcharmap_decode\u001b[0m\u001b[1;33m(\u001b[0m\u001b[0minput\u001b[0m\u001b[1;33m,\u001b[0m\u001b[0mself\u001b[0m\u001b[1;33m.\u001b[0m\u001b[0merrors\u001b[0m\u001b[1;33m,\u001b[0m\u001b[0mdecoding_table\u001b[0m\u001b[1;33m)\u001b[0m\u001b[1;33m[\u001b[0m\u001b[1;36m0\u001b[0m\u001b[1;33m]\u001b[0m\u001b[1;33m\u001b[0m\u001b[0m\n\u001b[0;32m     24\u001b[0m \u001b[1;33m\u001b[0m\u001b[0m\n",
      "\u001b[1;31mKeyboardInterrupt\u001b[0m: "
     ]
    }
    
    
   ],
   "source": [
    "i=0\n",
    "with open(\"DBLP_NETWORK\\DBLP_EDGES1.txt\") as myfile:\n",
    "    for line in myfile:\n",
    "        nd0=line.split('   ')[0]\n",
    "        nd1=line.split('   ')[1]\n",
    "        \n",
    "        nd1 = nd1.rstrip(os.linesep)\n",
    "        if Year_Nodes[nd0]<2016 and Year_Nodes[nd0]>=2008 :\n",
    "            st=str(nd1)+\"_\"+str(Year_Nodes[nd0])\n",
    "            #print(st)\n",
    "            if (st) in Details.keys():\n",
    "                 Details[st]=Details[st]+1\n",
    "            else :\n",
    "                 Details[st]=1\n",
    "            "
   ]
  },
  {
   "cell_type": "code",
   "execution_count": null,
   "metadata": {},
   "outputs": [],
   "source": [
    "\n",
    "with open(\"DBLP_NETWORK\\DBLP_EDGES1.txt\") as myfile:\n",
    "    for line in myfile:\n",
    "        print(line)\n",
    "        break"
   ]
  },
  {
   "cell_type": "code",
   "execution_count": null,
   "metadata": {},
   "outputs": [],
   "source": [
    "\n",
    "with open(\"DBLP_NETWORK\\DBLP_EDGES0.txt\") as myfile:\n",
    "    for line in myfile:\n",
    "        nd0=line.split('   ')[0]\n",
    "        nd1=line.split('   ')[1]\n",
    "        \n",
    "        nd1 = nd1.rstrip(os.linesep)\n",
    "        if Year_Nodes[nd0]<2016 and Year_Nodes[nd0]>=2008 :\n",
    "            st=str(nd1)+\"_\"+str(Year_Nodes[nd0])\n",
    "            #print(st)\n",
    "            if (st) in Details.keys():\n",
    "                 Details[st]=Details[st]+1\n",
    "            else :\n",
    "                 Details[st]=1\n",
    "            "
   ]
  },
  {
   "cell_type": "code",
   "execution_count": null,
   "metadata": {},
   "outputs": [],
   "source": [
    "\n",
    "with open(\"DBLP_NETWORK\\DBLP_EDGES2.txt\") as myfile:\n",
    "    for line in myfile:\n",
    "        nd0=line.split('   ')[0]\n",
    "        nd1=line.split('   ')[1]\n",
    "        \n",
    "        nd1 = nd1.rstrip(os.linesep)\n",
    "        if Year_Nodes[nd0]<2016 and Year_Nodes[nd0]>=2008 :\n",
    "            st=str(nd1)+\"_\"+str(Year_Nodes[nd0])\n",
    "            #print(st)\n",
    "            if (st) in Details.keys():\n",
    "                 Details[st]=Details[st]+1\n",
    "            else :\n",
    "                 Details[st]=1\n",
    "            "
   ]
  },
  {
   "cell_type": "code",
   "execution_count": null,
   "metadata": {},
   "outputs": [],
   "source": [
    "\n",
    "with open(\"DBLP_NETWORK\\DBLP_EDGES3.txt\") as myfile:\n",
    "    for line in myfile:\n",
    "        nd0=line.split('   ')[0]\n",
    "        nd1=line.split('   ')[1]\n",
    "        \n",
    "        nd1 = nd1.rstrip(os.linesep)\n",
    "        if nd0 in Year_Nodes.keys() :\n",
    "            if Year_Nodes[nd0]<2016 and Year_Nodes[nd0]>=2008 :\n",
    "                st=str(nd1)+\"_\"+str(Year_Nodes[nd0])\n",
    "            #print(st)\n",
    "                if (st) in Details.keys():\n",
    "                     Details[st]=Details[st]+1\n",
    "                else :\n",
    "                     Details[st]=1\n",
    "            "
   ]
  },
  {
   "cell_type": "code",
   "execution_count": null,
   "metadata": {},
   "outputs": [],
   "source": [
    "i=0\n",
    "with open(\"DBLP_NETWORK\\DBLP_EDGES3.txt\") as myfile:\n",
    "    for line in myfile:\n",
    "        print(line)\n",
    "        \n",
    "        if i>30 :\n",
    "            break\n",
    "        i=i+1"
   ]
  },
  {
   "cell_type": "code",
   "execution_count": 76,
   "metadata": {},
   "outputs": [],
   "source": [
    "import csv\n",
    "i=0\n",
    "Year_Nodes={}\n",
    "csv_f= open('Dataset1.csv', mode='w')\n",
    "\n",
    "fieldnames = ['PAPER-ID','year', 'AIN_2015','AIN_2014','AIN_2013','AIN_2012','AIN_2011','AIN_2010','AIN_2009','AIN_2008']\n",
    "#file_w= open(\"Dataset.txt\", \"w\")\n",
    "writer = csv.DictWriter(csv_f, fieldnames=fieldnames)\n",
    "\n",
    "writer.writeheader()\n",
    "with open(\"DBLP_NETWORK\\DBLP_NODES.txt\") as myfile:\n",
    "    for line in myfile:\n",
    "        ans=line.split('   ')[0]\n",
    "        Year_Nodes[ans]=int(line.split('   ')[1])\n",
    "        j=2008\n",
    "        In_Dict={}\n",
    "        In_Dict['PAPER-ID']=str(ans)\n",
    "        In_Dict['year']=str(int(line.split('   ')[1]))\n",
    "        while j<2016 :\n",
    "            if (str(ans)+\"_\"+str(j)) in Details.keys() :\n",
    "                In_Dict[\"AIN_\"+str(j)]=str(Details[str(ans)+\"_\"+str(j)])\n",
    "            else :\n",
    "                In_Dict[\"AIN_\"+str(j)]=str(0)\n",
    "            j=j+1\n",
    "        writer.writerow(In_Dict)\n",
    "   "
   ]
  },
  {
   "cell_type": "code",
   "execution_count": 69,
   "metadata": {},
   "outputs": [],
   "source": [
    "import pandas\n",
    "df = pandas.read_csv('Dataset1.csv')\n"
   ]
  },
  {
   "cell_type": "code",
   "execution_count": 70,
   "metadata": {},
   "outputs": [],
   "source": [
    "df['Agingfactor']=(1/2016-df['year'])**0.9\n",
    "df.loc[df['year'] <2005 , 'Agingfactor'] = (1/2016-df['year'])**2"
   ]
  },
  {
   "cell_type": "code",
   "execution_count": 72,
   "metadata": {},
   "outputs": [],
   "source": [
    "df['year'].fillna(0,inplace=True)"
   ]
  },
  {
   "cell_type": "code",
   "execution_count": 73,
   "metadata": {},
   "outputs": [],
   "source": [
    "df = df.fillna(method='ffill')"
   ]
  },
  {
   "cell_type": "code",
   "execution_count": 74,
   "metadata": {},
   "outputs": [],
   "source": [
    "list_of_X_cols=['Agingfactor','AIN_2014','AIN_2013','AIN_2012','AIN_2011','AIN_2010','AIN_2009','AIN_2008']"
   ]
  },
  {
   "cell_type": "code",
   "execution_count": 75,
   "metadata": {},
   "outputs": [],
   "source": [
    "from sklearn.model_selection import train_test_split\n",
    "X_train, X_test, y_train, y_test = train_test_split(df[list_of_X_cols], df['AIN_2015'], test_size=0.25, random_state=42)"
   ]
  },
  {
   "cell_type": "code",
   "execution_count": 76,
   "metadata": {},
   "outputs": [],
   "source": [
    "import numpy as np"
   ]
  },
  {
   "cell_type": "code",
   "execution_count": 77,
   "metadata": {},
   "outputs": [],
   "source": [
    "from sklearn import linear_model\n",
    "reg = linear_model.Lasso(alpha = 0.1)"
   ]
  },
  {
   "cell_type": "code",
   "execution_count": 80,
   "metadata": {},
   "outputs": [
    {
     "data": {
      "text/plain": [
       "0.8619558359698302"
      ]
     },
     "execution_count": 80,
     "metadata": {},
     "output_type": "execute_result"
    }
   ],
   "source": [
    "reg.score(X_train, y_train)"
   ]
  },
  {
   "cell_type": "code",
   "execution_count": 88,
   "metadata": {},
   "outputs": [
    {
     "data": {
      "text/plain": [
       "0.8716176519852262"
      ]
     },
     "execution_count": 88,
     "metadata": {},
     "output_type": "execute_result"
    }
   ],
   "source": [
    "reg.score(X_test,y_test)"
   ]
  },
  {
   "cell_type": "code",
   "execution_count": 82,
   "metadata": {},
   "outputs": [],
   "source": []
  },
  {
   "cell_type": "code",
   "execution_count": 83,
   "metadata": {},
   "outputs": [],
   "source": []
  },
  {
   "cell_type": "code",
   "execution_count": 84,
   "metadata": {},
   "outputs": [],
   "source": []
  },
  {
   "cell_type": "code",
   "execution_count": 53,
   "metadata": {},
   "outputs": [],
   "source": []
  },
  {
   "cell_type": "code",
   "execution_count": null,
   "metadata": {},
   "outputs": [],
   "source": []
  }
 ],
 "metadata": {
  "kernelspec": {
   "display_name": "Python 3",
   "language": "python",
   "name": "python3"
  },
  "language_info": {
   "codemirror_mode": {
    "name": "ipython",
    "version": 3
   },
   "file_extension": ".py",
   "mimetype": "text/x-python",
   "name": "python",
   "nbconvert_exporter": "python",
   "pygments_lexer": "ipython3",
   "version": "3.6.5"
  }
 },
 "nbformat": 4,
 "nbformat_minor": 2
}
